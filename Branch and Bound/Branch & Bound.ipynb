{
 "cells": [
  {
   "cell_type": "code",
   "execution_count": 1,
   "metadata": {},
   "outputs": [],
   "source": [
    "import copy\n",
    "import numpy as np\n",
    "import scipy\n",
    "from scipy import optimize"
   ]
  },
  {
   "cell_type": "code",
   "execution_count": 2,
   "metadata": {},
   "outputs": [],
   "source": [
    "def branch_and_bound(c, A, b):\n",
    "    z = -np.inf\n",
    "    sol = scipy.optimize.linprog(c, A_ub=A, b_ub=b)\n",
    "    if sol.status == 2: return None\n",
    "    \n",
    "    z = sol.fun\n",
    "    x = sol.x\n",
    "    \n",
    "    non_int_sol = None\n",
    "    for x_i in x:\n",
    "        if x_i.is_integer() == False:\n",
    "            non_int_sol = x_i\n",
    "            break\n",
    "            \n",
    "    if non_int_sol == None:\n",
    "        return [x, z]\n",
    "    \n",
    "    new_constraint = [0] * len(x)\n",
    "    index = list(x).index(non_int_sol)\n",
    "\n",
    "    new_constraint[index] = 1\n",
    "    sol_1 = branch_and_bound(c, A + [copy.deepcopy(new_constraint)], b + [np.floor(x[index])])\n",
    "    new_constraint[index] = -1\n",
    "    sol_2 = branch_and_bound(c, A + [copy.deepcopy(new_constraint)], b + [-np.ceil(x[index])])\n",
    "    \n",
    "    if sol_1 == None:\n",
    "        return sol_2\n",
    "    if sol_2 == None:\n",
    "        return sol_1\n",
    "    \n",
    "    if sol_1[1] > sol_2[1]:\n",
    "        return sol_1\n",
    "    else:\n",
    "        return sol_2"
   ]
  },
  {
   "cell_type": "code",
   "execution_count": 3,
   "metadata": {},
   "outputs": [
    {
     "output_type": "stream",
     "name": "stdout",
     "text": [
      "[array([2., 1.]), 7.0]\n"
     ]
    }
   ],
   "source": [
    "c = [3, 1]\n",
    "a = [[6, 6], [8, 3]]\n",
    "b = [32, 20]\n",
    "\n",
    "print(branch_and_bound(c, a, b))"
   ]
  }
 ],
 "metadata": {
  "kernelspec": {
   "name": "venv",
   "display_name": "Python 3.9.4 64-bit ('venv')"
  },
  "language_info": {
   "codemirror_mode": {
    "name": "ipython",
    "version": 3
   },
   "file_extension": ".py",
   "mimetype": "text/x-python",
   "name": "python",
   "nbconvert_exporter": "python",
   "pygments_lexer": "ipython3",
   "version": "3.9.4"
  },
  "metadata": {
   "interpreter": {
    "hash": "b819eb72d448105522dd141f7106d871448858ac6dc09a0ac0dd41e2b5ef65bd"
   }
  }
 },
 "nbformat": 4,
 "nbformat_minor": 4
}